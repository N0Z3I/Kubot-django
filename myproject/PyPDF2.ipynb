{
 "cells": [
  {
   "cell_type": "code",
   "execution_count": 11,
   "metadata": {},
   "outputs": [
    {
     "name": "stdout",
     "output_type": "stream",
     "text": [
      "Requirement already satisfied: PyPDF2 in d:\\github\\kubot-django\\myenv\\lib\\site-packages (3.0.1)\n"
     ]
    },
    {
     "name": "stderr",
     "output_type": "stream",
     "text": [
      "\n",
      "[notice] A new release of pip is available: 24.0 -> 24.3.1\n",
      "[notice] To update, run: python.exe -m pip install --upgrade pip\n"
     ]
    },
    {
     "name": "stdout",
     "output_type": "stream",
     "text": [
      "Requirement already satisfied: fixthaipdf in d:\\github\\kubot-django\\myenv\\lib\\site-packages (0.2.1)\n",
      "Requirement already satisfied: pythainlp>4.0 in d:\\github\\kubot-django\\myenv\\lib\\site-packages (from fixthaipdf) (5.0.4)\n",
      "Requirement already satisfied: requests>=2.22.0 in d:\\github\\kubot-django\\myenv\\lib\\site-packages (from pythainlp>4.0->fixthaipdf) (2.32.3)\n",
      "Requirement already satisfied: tzdata in d:\\github\\kubot-django\\myenv\\lib\\site-packages (from pythainlp>4.0->fixthaipdf) (2024.1)\n",
      "Requirement already satisfied: charset-normalizer<4,>=2 in d:\\github\\kubot-django\\myenv\\lib\\site-packages (from requests>=2.22.0->pythainlp>4.0->fixthaipdf) (3.3.2)\n",
      "Requirement already satisfied: idna<4,>=2.5 in d:\\github\\kubot-django\\myenv\\lib\\site-packages (from requests>=2.22.0->pythainlp>4.0->fixthaipdf) (3.7)\n",
      "Requirement already satisfied: urllib3<3,>=1.21.1 in d:\\github\\kubot-django\\myenv\\lib\\site-packages (from requests>=2.22.0->pythainlp>4.0->fixthaipdf) (2.2.2)\n",
      "Requirement already satisfied: certifi>=2017.4.17 in d:\\github\\kubot-django\\myenv\\lib\\site-packages (from requests>=2.22.0->pythainlp>4.0->fixthaipdf) (2024.7.4)\n"
     ]
    },
    {
     "name": "stderr",
     "output_type": "stream",
     "text": [
      "\n",
      "[notice] A new release of pip is available: 24.0 -> 24.3.1\n",
      "[notice] To update, run: python.exe -m pip install --upgrade pip\n"
     ]
    }
   ],
   "source": [
    "!pip install PyPDF2\n",
    "!pip install fixthaipdf"
   ]
  },
  {
   "cell_type": "code",
   "execution_count": 12,
   "metadata": {},
   "outputs": [
    {
     "name": "stdout",
     "output_type": "stream",
     "text": [
      "ไฟล์ JSON ถูกบันทึกในชื่อ pdf.json เรียบร้อยแล้ว\n"
     ]
    }
   ],
   "source": [
    "import PyPDF2\n",
    "from fixthaipdf import clean\n",
    "import json\n",
    "\n",
    "# ฟังก์ชันสำหรับลบอักขระที่ไม่ต้องการ\n",
    "def clean_text(text):\n",
    "    replacements = {\n",
    "        \"É\": \"\",\n",
    "        \"Ê\": \"\",\n",
    "        \"ï\": \"\",\n",
    "        \"®\": \"\",\n",
    "        \"\\uf0dc\": \"\",  # ลบสัญลักษณ์ที่ไม่ต้องการออก\n",
    "        \"\\n\": \"\\n\"  # ให้คงบรรทัดใหม่ไว้ตามต้นฉบับ\n",
    "    }\n",
    "    for key, value in replacements.items():\n",
    "        text = text.replace(key, value)\n",
    "    return text.strip()\n",
    "\n",
    "# ฟังก์ชันหลักสำหรับดึงข้อมูลจาก PDF และแปลงเป็น JSON\n",
    "def pdf_to_custom_json(pdf_path, output_json_path):\n",
    "    data = {\n",
    "        \"document\": {\n",
    "            \"title\": pdf_path.split(\"/\")[-1],  # ใช้ชื่อไฟล์เป็นหัวข้อเอกสาร\n",
    "            \"total_pages\": 0,\n",
    "            \"pages\": []\n",
    "        }\n",
    "    }\n",
    "    \n",
    "    with open(pdf_path, 'rb') as pdf_file:\n",
    "        reader = PyPDF2.PdfReader(pdf_file)\n",
    "        total_pages = len(reader.pages)\n",
    "        data[\"document\"][\"total_pages\"] = total_pages\n",
    "        \n",
    "        for page_num in range(total_pages):\n",
    "            page = reader.pages[page_num]\n",
    "            text = page.extract_text()\n",
    "            cleaned_text = clean(text)\n",
    "            final_text = clean_text(cleaned_text)\n",
    "            \n",
    "            # เพิ่มข้อมูลเนื้อหาทั้งหมดในหน้าตามแบบย่อหน้าต่อเนื่อง\n",
    "            data[\"document\"][\"pages\"].append({\n",
    "                \"page_number\": page_num + 1,\n",
    "                \"content\": final_text\n",
    "            })\n",
    "    \n",
    "    # เขียนข้อมูล JSON ลงไฟล์\n",
    "    with open(output_json_path, 'w', encoding='utf-8') as json_file:\n",
    "        json.dump(data, json_file, ensure_ascii=False, indent=4)\n",
    "\n",
    "# เรียกใช้งานฟังก์ชันเพื่อแปลง PDF เป็น JSON และบันทึกในไฟล์ pdf.json\n",
    "pdf_to_custom_json(r\"D:\\Github\\EasyOCR\\Calendar_KPS_2567.pdf\", \"pdf.json\")\n",
    "print(\"ไฟล์ JSON ถูกบันทึกในชื่อ pdf.json เรียบร้อยแล้ว\")\n"
   ]
  }
 ],
 "metadata": {
  "kernelspec": {
   "display_name": "myenv",
   "language": "python",
   "name": "python3"
  },
  "language_info": {
   "codemirror_mode": {
    "name": "ipython",
    "version": 3
   },
   "file_extension": ".py",
   "mimetype": "text/x-python",
   "name": "python",
   "nbconvert_exporter": "python",
   "pygments_lexer": "ipython3",
   "version": "3.12.4"
  }
 },
 "nbformat": 4,
 "nbformat_minor": 2
}
